{
 "cells": [
  {
   "cell_type": "code",
   "execution_count": 2,
   "metadata": {},
   "outputs": [],
   "source": [
    "from openai import OpenAI\n",
    "import os\n",
    "from PyPDF2 import PdfReader\n",
    "from pptx import Presentation\n",
    "import ast"
   ]
  },
  {
   "cell_type": "code",
   "execution_count": 3,
   "metadata": {},
   "outputs": [],
   "source": [
    "def pdf_to_string(file_path):\n",
    "    pdf = PdfReader(file_path)\n",
    "\n",
    "    text = ''\n",
    "\n",
    "    for page in pdf.pages:\n",
    "        text += page.extract_text()\n",
    "\n",
    "    return text"
   ]
  },
  {
   "cell_type": "code",
   "execution_count": 4,
   "metadata": {},
   "outputs": [],
   "source": [
    "company_details = pdf_to_string('data/company_details.pdf')"
   ]
  },
  {
   "cell_type": "code",
   "execution_count": 5,
   "metadata": {},
   "outputs": [],
   "source": [
    "pdf_string = pdf_to_string('data/sample-rfp.pdf')"
   ]
  },
  {
   "cell_type": "code",
   "execution_count": 34,
   "metadata": {},
   "outputs": [],
   "source": [
    "client = OpenAI(api_key=os.environ[\"OPENAI_API_KEY\"])\n",
    "\n",
    "\n",
    "def proposal_generator(pdf_string, company_details):\n",
    "    format = {\n",
    "        \"slide title\": \"<Title of the Presentation>\",\n",
    "        \"Understanding of the Scope\": [\n",
    "            \"<Point 1 for Slide 1>\",\n",
    "            \"<Point 2 for Slide 1>\",\n",
    "            \"<Point 3 for Slide 1>\",\n",
    "            \"<Placeholder for additional points>\",\n",
    "        ],\n",
    "        \"Understanding of the Scope\": [\n",
    "            \"<Point 1 for Slide 2>\",\n",
    "            \"<Point 2 for Slide 2>\",\n",
    "            \"<Point 3 for Slide 2>\",\n",
    "            \"<Placeholder for additional points>\",\n",
    "        ],\n",
    "        \"Understanding of the Scope\": [\n",
    "            \"<Point 1 for Slide 3>\",\n",
    "            \"<Point 2 for Slide 3>\",\n",
    "            \"<Point 3 for Slide 3>\",\n",
    "            \"<Placeholder for additional points>\",\n",
    "        ],\n",
    "        \"Our Solution/Reference Architecture\": [\n",
    "            \"<Point 1 for Slide 4>\",\n",
    "            \"<Point 2 for Slide 4>\",\n",
    "            \"<Placeholder for additional points>\",\n",
    "        ],\n",
    "        \"Our Solution/Reference Architecture\": [\n",
    "            \"<Point 1 for Slide 5>\",\n",
    "            \"<Point 2 for Slide 5>\",\n",
    "            \"<Placeholder for additional points>\",\n",
    "        ],\n",
    "        \"Tech Stack Recommendation\": [\n",
    "            \"<Point 1 for Slide 6>\",\n",
    "            \"<Point 2 for Slide 6>\",\n",
    "            \"<Placeholder for additional points>\",\n",
    "        ],\n",
    "        \"Tech Stack Recommendation\": [\n",
    "            \"<Point 1 for Slide 7>\",\n",
    "            \"<Point 2 for Slide 7>\",\n",
    "            \"<Placeholder for additional points>\",\n",
    "        ],\n",
    "        \"Comparison/Rationale for all the suggested tool\": [\n",
    "            \"<Point 1 for Slide 8>\",\n",
    "            \"<Point 2 for Slide 8>\",\n",
    "            \"<Point 3 for Slide 8>\",\n",
    "            \"<Placeholder for additional points>\",\n",
    "        ],\n",
    "        \"Comparison/Rationale for all the suggested tool\": [\n",
    "            \"<Point 1 for Slide 9>\",\n",
    "            \"<Point 2 for Slide 9>\",\n",
    "            \"<Point 3 for Slide 9>\",\n",
    "            \"<Placeholder for additional points>\",\n",
    "        ],\n",
    "        \"Comparison/Rationale for all the suggested tool\": [\n",
    "            \"<Point 1 for Slide 10>\",\n",
    "            \"<Point 2 for Slide 10>\",\n",
    "            \"<Point 3 for Slide 10>\",\n",
    "            \"<Placeholder for additional points>\",\n",
    "        ],\n",
    "    }\n",
    "\n",
    "    response = client.chat.completions.create(\n",
    "        model=\"gpt-3.5-turbo-0125\",\n",
    "        response_format={\"type\": \"json_object\"},\n",
    "        messages=[\n",
    "            {\n",
    "                \"role\": \"system\",\n",
    "                \"content\": \"You are a helpful sales and business development assistant who creates narrative/content-driven presentations with good context which provides output strictly in json format.\",\n",
    "            },\n",
    "            {\n",
    "                \"role\": \"user\",\n",
    "                \"content\": \"RFP/Proposal : {pdf_string}\\n\\\n",
    "                My company Details:{company_details}\\n\\\n",
    "                Prompt : Making use of the provided RFP and company details,\\n\\\n",
    "                create a proposal, a detailed narrative/content-driven presentation with the following content :\\n\\\n",
    "                It should have a title slide according to the RFP.\\n\\\n",
    "                1. Understanding of the Scope (2 slides)\\n\\\n",
    "                2. Our Solution/Reference Architecture (2 slide)\\n\\\n",
    "                3. Tech Stack Recommendation (1 slide)\\n\\\n",
    "                5. Comparison/Rationale for all the suggested tool (2 slide).\\n\\\n",
    "                Presentation should be structured in the following format with title and other slides : {format}\\n\\\n",
    "                and it should be detailed with multiple slides for each title,\\n\\\n",
    "                each slide should not have more than 3 points\",\n",
    "            },\n",
    "        ],\n",
    "    )\n",
    "    return response.choices[0].message.content"
   ]
  },
  {
   "cell_type": "code",
   "execution_count": 35,
   "metadata": {},
   "outputs": [],
   "source": [
    "slides_content = proposal_generator(pdf_string,company_details)"
   ]
  },
  {
   "cell_type": "code",
   "execution_count": 36,
   "metadata": {},
   "outputs": [
    {
     "data": {
      "text/plain": [
       "'{\\n  \"Proposal\": {\\n    \"Title\": \"Innovative Solutions Proposal for [Client Name] RFP\",\\n    \"Slides\": [\\n      {\\n        \"Title\": \"Understanding of the Scope\",\\n        \"Content\": [\\n          {\\n            \"Slide 1\": [\\n              \"Detailed analysis of the requirements outlined in the RFP\",\\n              \"Identification of key challenges and pain points to be addressed\"\\n            ]\\n          },\\n          {\\n            \"Slide 2\": [\\n              \"Strategic approach to meet the project objectives\",\\n              \"Proposed timeline and deliverables\"\\n            ]\\n          }\\n        ]\\n      },\\n      {\\n        \"Title\": \"Our Solution/Reference Architecture\",\\n        \"Content\": [\\n          {\\n            \"Slide 1\": [\\n              \"Overview of our proposed solution\",\\n              \"High-level architecture diagram showcasing the system components\"\\n            ]\\n          },\\n          {\\n            \"Slide 2\": [\\n              \"Case studies or examples of similar successful implementations\",\\n              \"Benefits of our solution compared to competitors\"\\n            ]\\n          }\\n        ]\\n      },\\n      {\\n        \"Title\": \"Tech Stack Recommendation\",\\n        \"Content\": [\\n          {\\n            \"Slide 1\": [\\n              \"Selection criteria for the recommended tech stack\",\\n              \"Brief overview of each technology included in the stack\"\\n            ]\\n          }\\n        ]\\n      },\\n      {\\n        \"Title\": \"Comparison/Rationale for all the suggested tools\",\\n        \"Content\": [\\n          {\\n            \"Slide 1\": [\\n              \"Feature comparison of the suggested tools\",\\n              \"Cost-benefit analysis for each tool\"\\n            ]\\n          },\\n          {\\n            \"Slide 2\": [\\n              \"Scalability and flexibility comparison\",\\n              \"Relevant case studies or success stories using these tools\"\\n            ]\\n          }\\n        ]\\n      }\\n    ]\\n  }\\n}'"
      ]
     },
     "execution_count": 36,
     "metadata": {},
     "output_type": "execute_result"
    }
   ],
   "source": [
    "slides_content"
   ]
  },
  {
   "cell_type": "code",
   "execution_count": 33,
   "metadata": {},
   "outputs": [
    {
     "ename": "KeyError",
     "evalue": "'slide title'",
     "output_type": "error",
     "traceback": [
      "\u001b[0;31m---------------------------------------------------------------------------\u001b[0m",
      "\u001b[0;31mKeyError\u001b[0m                                  Traceback (most recent call last)",
      "Cell \u001b[0;32mIn[33], line 7\u001b[0m\n\u001b[1;32m      5\u001b[0m slide \u001b[38;5;241m=\u001b[39m prs\u001b[38;5;241m.\u001b[39mslides\u001b[38;5;241m.\u001b[39madd_slide(slide_layout)\n\u001b[1;32m      6\u001b[0m title_placeholder \u001b[38;5;241m=\u001b[39m slide\u001b[38;5;241m.\u001b[39mshapes\u001b[38;5;241m.\u001b[39mtitle\n\u001b[0;32m----> 7\u001b[0m title_placeholder\u001b[38;5;241m.\u001b[39mtext \u001b[38;5;241m=\u001b[39m \u001b[43mpresentation_content_dict\u001b[49m\u001b[43m[\u001b[49m\u001b[38;5;124;43m\"\u001b[39;49m\u001b[38;5;124;43mslide title\u001b[39;49m\u001b[38;5;124;43m\"\u001b[39;49m\u001b[43m]\u001b[49m\n\u001b[1;32m      9\u001b[0m \u001b[38;5;28;01mfor\u001b[39;00m title, content \u001b[38;5;129;01min\u001b[39;00m \u001b[38;5;28mlist\u001b[39m(presentation_content_dict\u001b[38;5;241m.\u001b[39mitems())[\u001b[38;5;241m1\u001b[39m:]:\n\u001b[1;32m     10\u001b[0m     slide_layout \u001b[38;5;241m=\u001b[39m prs\u001b[38;5;241m.\u001b[39mslide_layouts[\u001b[38;5;241m1\u001b[39m]\n",
      "\u001b[0;31mKeyError\u001b[0m: 'slide title'"
     ]
    }
   ],
   "source": [
    "prs = Presentation()\n",
    "\n",
    "presentation_content_dict = ast.literal_eval(slides_content)\n",
    "slide_layout = prs.slide_layouts[0]\n",
    "slide = prs.slides.add_slide(slide_layout)\n",
    "title_placeholder = slide.shapes.title\n",
    "title_placeholder.text = presentation_content_dict[\"slide title\"]\n",
    "\n",
    "for title, content in list(presentation_content_dict.items())[1:]:\n",
    "    slide_layout = prs.slide_layouts[1]\n",
    "    slide = prs.slides.add_slide(slide_layout)\n",
    "\n",
    "    slide.shapes.title.text = title\n",
    "    for line in content:\n",
    "        p = slide.placeholders[1].text_frame.add_paragraph()\n",
    "        p.text = line\n",
    "\n",
    "# Save the presentation to a local file\n",
    "prs.save('new_final-ai.pptx')"
   ]
  },
  {
   "cell_type": "code",
   "execution_count": 2,
   "metadata": {},
   "outputs": [],
   "source": [
    "#images, logos (skills), no way to understand properly for AI, need to convert it to words\n",
    "#company details fine tuning better?\n",
    "#caching to save token usage (since the understanding doesnt vary), but the extra prompt user provides might need extra context?\n",
    "\n",
    "\n",
    "#token usage is high at the moment"
   ]
  },
  {
   "cell_type": "code",
   "execution_count": null,
   "metadata": {},
   "outputs": [],
   "source": [
    "#Understanding of the scope ()\n",
    "# Our solution/ reference architecture (layers, features etc) without specific tech and things\n",
    "# tech stack recommendation??\n",
    "# comparison/rationale in line with the scope and also our company capabilities included in recommendation\n",
    "# How we can help (Why mitz for this. Our similar case studies etc)"
   ]
  }
 ],
 "metadata": {
  "kernelspec": {
   "display_name": "Python 3",
   "language": "python",
   "name": "python3"
  },
  "language_info": {
   "codemirror_mode": {
    "name": "ipython",
    "version": 3
   },
   "file_extension": ".py",
   "mimetype": "text/x-python",
   "name": "python",
   "nbconvert_exporter": "python",
   "pygments_lexer": "ipython3",
   "version": "3.10.12"
  }
 },
 "nbformat": 4,
 "nbformat_minor": 2
}
